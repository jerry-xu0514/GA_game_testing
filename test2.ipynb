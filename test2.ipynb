{
 "cells": [
  {
   "cell_type": "code",
   "execution_count": 8,
   "metadata": {},
   "outputs": [],
   "source": [
    "import numpy as np\n",
    "import pandas as pd\n",
    "import sys\n",
    "import requests\n",
    "\n",
    "import json\n",
    "\n",
    "BATTLEID_TITLE = 'BattleId'\n",
    "JOBID_TITLE = 'JobId'\n",
    "SKILL_TITLE = 'Skills'\n",
    "CHARACTER_TITLE = 'Characters'\n",
    "\n",
    "RETURN_TIME = 'Milliseconds'\n",
    "RETURN_RESULT = 'result'\n",
    "RETURN_DAMAGE = 'Damage'\n",
    "\n",
    "global battle_id\n",
    "battle_id = 0\n",
    "population_warning = True\n",
    "\n",
    "population_size = 100\n",
    "job_to_skills = {}\n"
   ]
  },
  {
   "cell_type": "code",
   "execution_count": 9,
   "metadata": {},
   "outputs": [],
   "source": [
    "def read_data(file_path):\n",
    "    global battle_id\n",
    "    global job_to_skills\n",
    "    print(f\"reading data from {file_path}...\")\n",
    "    xls = pd.ExcelFile(file_path)\n",
    "    jobs = pd.read_excel(xls, 'job')\n",
    "    skills = pd.read_excel(xls, 'skill')\n",
    "\n",
    "    # just take the first 7\n",
    "    for i in range(8):\n",
    "        job_id = jobs.loc[:7, 'job_id'][i]\n",
    "        skills_id = []\n",
    "        job_to_skills[job_id] = skills_id\n",
    "\n",
    "    # for skill in skills.loc:\n",
    "    for index, row in skills.iterrows():\n",
    "        skill_id = row['id']\n",
    "        job_id = row['job_id']\n",
    "        assert job_id in job_to_skills, f\"job_id {job_id} not in job_to_skills\"\n",
    "        job_to_skills[job_id].append(skill_id)\n",
    "\n",
    "\"\"\"\n",
    "generates a random population of size n\n",
    "sample template: '[{\"BattleId\":1,\"Characters\":[{\"JobId\":14,\"Skills\":[109,110,111,112]},{\"JobId\":15,\"Skills\":[104,103,106,107]},{\"JobId\":16,\"Skills\":[446,448,449,447]},{\"JobId\":17,\"Skills\":[1116,1119,1117,1118]}]}]'\n",
    "\"\"\"\n",
    "def generate_first_population(population_size):\n",
    "    global battle_id\n",
    "    global job_to_skills\n",
    "    population = []\n",
    "    for i in range(population_size):\n",
    "        population.append(generate_character())\n",
    "    return population, generate_id_to_idx(population)\n",
    "\n",
    "\"\"\"\n",
    "generates a random character\n",
    "sample template: {\"BattleId\":1,\"Characters\":[{\"JobId\":14,\"Skills\":[109,110,111,112]},{\"JobId\":15,\"Skills\":[104,103,106,107]},{\"JobId\":16,\"Skills\":[446,448,449,447]},{\"JobId\":17,\"Skills\":[1116,1119,1117,1118]}]}\n",
    "\"\"\"\n",
    "def generate_character():\n",
    "    global battle_id\n",
    "    global job_to_skills\n",
    "    character = {}\n",
    "    character[BATTLEID_TITLE] = battle_id\n",
    "    battle_id += 1\n",
    "    character[CHARACTER_TITLE] = []\n",
    "    job_ids = np.random.choice(list(job_to_skills.keys()), 4, replace=False)\n",
    "    for job_id in job_ids:\n",
    "        job = {}\n",
    "        job[JOBID_TITLE] = job_id\n",
    "        job[SKILL_TITLE] = np.random.choice(job_to_skills[job_id], 4, replace=False).tolist()\n",
    "        character[CHARACTER_TITLE].append(job)\n",
    "    return character\n",
    "\n",
    "def generate_id_to_idx(population):\n",
    "    new_id_to_idx = {}\n",
    "    for i, battle in enumerate(population):\n",
    "        new_id_to_idx[battle[BATTLEID_TITLE]] = i\n",
    "    return new_id_to_idx"
   ]
  },
  {
   "cell_type": "code",
   "execution_count": 3,
   "metadata": {},
   "outputs": [
    {
     "name": "stdout",
     "output_type": "stream",
     "text": [
      "reading data from job-skill.xlsx...\n",
      "[{'BattleId': 0, 'Characters': [{'JobId': 25, 'Skills': [854, 918, 582, 138]}, {'JobId': 14, 'Skills': [1375, 1371, 1948, 1955]}, {'JobId': 15, 'Skills': [1297, 1304, 241, 1248]}, {'JobId': 16, 'Skills': [1241, 1637, 449, 1960]}]}, {'BattleId': 1, 'Characters': [{'JobId': 18, 'Skills': [1032, 1043, 1040, 1706]}, {'JobId': 15, 'Skills': [1938, 1564, 438, 1620]}, {'JobId': 14, 'Skills': [1376, 1364, 1340, 1666]}, {'JobId': 25, 'Skills': [866, 865, 394, 875]}]}, {'BattleId': 2, 'Characters': [{'JobId': 14, 'Skills': [444, 1327, 1358, 1361]}, {'JobId': 19, 'Skills': [134, 957, 131, 942]}, {'JobId': 26, 'Skills': [786, 809, 803, 1702]}, {'JobId': 16, 'Skills': [1641, 1637, 1231, 118]}]}, {'BattleId': 3, 'Characters': [{'JobId': 15, 'Skills': [1306, 1262, 1566, 1299]}, {'JobId': 25, 'Skills': [869, 898, 874, 895]}, {'JobId': 18, 'Skills': [1038, 1010, 1026, 1057]}, {'JobId': 17, 'Skills': [1110, 1139, 1576, 1091]}]}, {'BattleId': 4, 'Characters': [{'JobId': 26, 'Skills': [816, 834, 839, 824]}, {'JobId': 18, 'Skills': [1065, 1049, 1039, 2003]}, {'JobId': 15, 'Skills': [1262, 379, 1245, 1624]}, {'JobId': 19, 'Skills': [1982, 953, 939, 1434]}]}, {'BattleId': 5, 'Characters': [{'JobId': 26, 'Skills': [1991, 1996, 770, 576]}, {'JobId': 25, 'Skills': [922, 137, 890, 393]}, {'JobId': 17, 'Skills': [1680, 1129, 1686, 1094]}, {'JobId': 16, 'Skills': [253, 1211, 1634, 1200]}]}, {'BattleId': 6, 'Characters': [{'JobId': 16, 'Skills': [1175, 1239, 1244, 1630]}, {'JobId': 25, 'Skills': [585, 882, 904, 1598]}, {'JobId': 17, 'Skills': [1136, 1124, 1152, 1576]}, {'JobId': 14, 'Skills': [1365, 112, 1333, 445]}]}, {'BattleId': 7, 'Characters': [{'JobId': 19, 'Skills': [561, 134, 130, 970]}, {'JobId': 26, 'Skills': [1993, 1701, 822, 573]}, {'JobId': 15, 'Skills': [1291, 1258, 1250, 1265]}, {'JobId': 17, 'Skills': [385, 1123, 1096, 1092]}]}, {'BattleId': 8, 'Characters': [{'JobId': 18, 'Skills': [1022, 1051, 1035, 608]}, {'JobId': 26, 'Skills': [761, 834, 794, 828]}, {'JobId': 25, 'Skills': [589, 893, 909, 266]}, {'JobId': 16, 'Skills': [1961, 1962, 1185, 448]}]}, {'BattleId': 9, 'Characters': [{'JobId': 18, 'Skills': [1070, 399, 1712, 1416]}, {'JobId': 17, 'Skills': [1144, 1086, 1683, 122]}, {'JobId': 19, 'Skills': [1424, 1425, 1583, 963]}, {'JobId': 16, 'Skills': [1226, 1638, 1203, 1959]}]}]\n"
     ]
    }
   ],
   "source": [
    "read_data('job-skill.xlsx')\n",
    "population, id_to_idx = generate_first_population(10)\n",
    "\n",
    "print(population)"
   ]
  },
  {
   "cell_type": "code",
   "execution_count": 11,
   "metadata": {},
   "outputs": [],
   "source": [
    "class NpEncoder(json.JSONEncoder):\n",
    "    def default(self, obj):\n",
    "        if isinstance(obj, np.integer):\n",
    "            return int(obj)\n",
    "        if isinstance(obj, np.floating):\n",
    "            return float(obj)\n",
    "        if isinstance(obj, np.ndarray):\n",
    "            return obj.tolist()\n",
    "        return super(NpEncoder, self).default(obj)"
   ]
  },
  {
   "cell_type": "code",
   "execution_count": 12,
   "metadata": {},
   "outputs": [
    {
     "name": "stdout",
     "output_type": "stream",
     "text": [
      "[{\"BattleId\":7,\"Result\":0,\"Milliseconds\":47860,\"Damage\":3706668322},{\"BattleId\":5,\"Result\":0,\"Milliseconds\":63860,\"Damage\":5180549905},{\"BattleId\":2,\"Result\":0,\"Milliseconds\":72370,\"Damage\":5755266194},{\"BattleId\":4,\"Result\":0,\"Milliseconds\":74650,\"Damage\":6396612675},{\"BattleId\":6,\"Result\":0,\"Milliseconds\":70200,\"Damage\":7337596248},{\"BattleId\":9,\"Result\":0,\"Milliseconds\":44520,\"Damage\":3511765937},{\"BattleId\":3,\"Result\":0,\"Milliseconds\":75770,\"Damage\":5527369055},{\"BattleId\":0,\"Result\":0,\"Milliseconds\":85940,\"Damage\":5792862864},{\"BattleId\":1,\"Result\":0,\"Milliseconds\":73930,\"Damage\":4147769428},{\"BattleId\":8,\"Result\":0,\"Milliseconds\":74090,\"Damage\":6175754373}]\n"
     ]
    }
   ],
   "source": [
    "url = 'http://10.41.0.159:8080/simulator'\n",
    "\n",
    "headers = {\n",
    "    'Content-Type': 'application/json'\n",
    "}\n",
    "\n",
    "population_j = json.dumps(population, cls=NpEncoder)\n",
    "loaded_population = json.loads(population_j)\n",
    "data = loaded_population\n",
    "\n",
    "response = requests.post(url, json=data, headers=headers)\n",
    "\n",
    "print(response.text)"
   ]
  },
  {
   "cell_type": "code",
   "execution_count": 17,
   "metadata": {},
   "outputs": [
    {
     "data": {
      "text/plain": [
       "10"
      ]
     },
     "execution_count": 17,
     "metadata": {},
     "output_type": "execute_result"
    }
   ],
   "source": [
    "len(response.json())"
   ]
  },
  {
   "cell_type": "code",
   "execution_count": 18,
   "metadata": {},
   "outputs": [
    {
     "name": "stdout",
     "output_type": "stream",
     "text": [
      "7337596248\n"
     ]
    }
   ],
   "source": [
    "response = [{\"BattleId\":7,\"Result\":0,\"Milliseconds\":47860,\"Damage\":3706668322},{\"BattleId\":5,\"Result\":0,\"Milliseconds\":63860,\"Damage\":5180549905},{\"BattleId\":2,\"Result\":0,\"Milliseconds\":72370,\"Damage\":5755266194},{\"BattleId\":4,\"Result\":0,\"Milliseconds\":74650,\"Damage\":6396612675},{\"BattleId\":6,\"Result\":0,\"Milliseconds\":70200,\"Damage\":7337596248},{\"BattleId\":9,\"Result\":0,\"Milliseconds\":44520,\"Damage\":3511765937},{\"BattleId\":3,\"Result\":0,\"Milliseconds\":75770,\"Damage\":5527369055},{\"BattleId\":0,\"Result\":0,\"Milliseconds\":85940,\"Damage\":5792862864},{\"BattleId\":1,\"Result\":0,\"Milliseconds\":73930,\"Damage\":4147769428},{\"BattleId\":8,\"Result\":0,\"Milliseconds\":74090,\"Damage\":6175754373}]\n",
    "\n",
    "all_damages = [i['Damage'] for i in response]\n",
    "print(max(all_damages))"
   ]
  },
  {
   "cell_type": "code",
   "execution_count": null,
   "metadata": {},
   "outputs": [],
   "source": []
  },
  {
   "cell_type": "code",
   "execution_count": null,
   "metadata": {},
   "outputs": [
    {
     "data": {
      "text/plain": [
       "-111366815"
      ]
     },
     "execution_count": 21,
     "metadata": {},
     "output_type": "execute_result"
    }
   ],
   "source": [
    "16692099104 - 7344716581"
   ]
  },
  {
   "cell_type": "code",
   "execution_count": null,
   "metadata": {},
   "outputs": [],
   "source": []
  }
 ],
 "metadata": {
  "kernelspec": {
   "display_name": "Python 3",
   "language": "python",
   "name": "python3"
  },
  "language_info": {
   "codemirror_mode": {
    "name": "ipython",
    "version": 3
   },
   "file_extension": ".py",
   "mimetype": "text/x-python",
   "name": "python",
   "nbconvert_exporter": "python",
   "pygments_lexer": "ipython3",
   "version": "3.11.4"
  },
  "orig_nbformat": 4
 },
 "nbformat": 4,
 "nbformat_minor": 2
}
