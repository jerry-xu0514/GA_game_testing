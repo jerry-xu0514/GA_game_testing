{
 "cells": [
  {
   "cell_type": "code",
   "execution_count": null,
   "metadata": {},
   "outputs": [
    {
     "ename": "",
     "evalue": "",
     "output_type": "error",
     "traceback": [
      "\u001b[1;31mFailed to start the Kernel. \n",
      "\u001b[1;31m0.00s - Debugger warning: It seems that frozen modules are being used, which may\n",
      "\u001b[1;31m0.00s - make the debugger miss breakpoints. Please pass -Xfrozen_modules=off\n",
      "\u001b[1;31m0.00s - to python to disable frozen modules.\n",
      "\u001b[1;31m0.00s - Note: Debugging will proceed. Set PYDEVD_DISABLE_FILE_VALIDATION=1 to disable this validation.\n",
      "\u001b[1;31mc:\\Users\\JerryXu\\Desktop\\work\\GA_game_balancing\\.conda\\Lib\\site-packages\\traitlets\\traitlets.py:2548: FutureWarning: Supporting extra quotes around strings is deprecated in traitlets 5.0. You can use 'hmac-sha256' instead of '\"hmac-sha256\"' if you require traitlets >=5.\n",
      "\u001b[1;31m  warn(\n",
      "\u001b[1;31mc:\\Users\\JerryXu\\Desktop\\work\\GA_game_balancing\\.conda\\Lib\\site-packages\\traitlets\\traitlets.py:2499: FutureWarning: Supporting extra quotes around Bytes is deprecated in traitlets 5.0. Use 'd1bef352-231e-4219-9853-8caa83bd1194' instead of 'b\"d1bef352-231e-4219-9853-8caa83bd1194\"'.\n",
      "\u001b[1;31m  warn(\n",
      "\u001b[1;31mBad address (D:\\bld\\zeromq_1629967000004\\work\\src\\epoll.cpp:100). \n",
      "\u001b[1;31mView Jupyter <a href='command:jupyter.viewOutput'>log</a> for further details."
     ]
    }
   ],
   "source": [
    "import GA_character_testing\n",
    "import numpy as np\n"
   ]
  },
  {
   "cell_type": "code",
   "execution_count": null,
   "metadata": {},
   "outputs": [],
   "source": []
  }
 ],
 "metadata": {
  "kernelspec": {
   "display_name": "Python 3",
   "language": "python",
   "name": "python3"
  },
  "language_info": {
   "name": "python",
   "version": "3.11.4"
  },
  "orig_nbformat": 4
 },
 "nbformat": 4,
 "nbformat_minor": 2
}
