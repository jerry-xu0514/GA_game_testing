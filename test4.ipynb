{
 "cells": [
  {
   "cell_type": "code",
   "execution_count": 29,
   "metadata": {},
   "outputs": [],
   "source": [
    "import numpy as np\n",
    "import pandas as pd\n",
    "\n",
    "BATTLEID_TITLE = 'BattleId'\n",
    "JOBID_TITLE = 'JobId'\n",
    "SKILL_TITLE = 'Skills'\n",
    "CHARACTER_TITLE = 'Characters'\n",
    "\n",
    "job_to_skills = {}\n",
    "battle_id = 0"
   ]
  },
  {
   "cell_type": "code",
   "execution_count": 44,
   "metadata": {},
   "outputs": [],
   "source": [
    "def read_data(file_path):\n",
    "    global job_to_skills\n",
    "    xls = pd.ExcelFile(file_path)\n",
    "    jobs = pd.read_excel(xls, 'job')\n",
    "    skills = pd.read_excel(xls, 'skill')\n",
    "\n",
    "    for i in range(8):\n",
    "        job_id = jobs.loc[:7, 'job_id'][i]\n",
    "        skills_id = {}\n",
    "        job_to_skills[job_id] = skills_id\n",
    "    \n",
    "    for index, row in skills.iterrows():\n",
    "        if row['sign'] not in job_to_skills[row['job_id']]:\n",
    "            job_to_skills[row['job_id']][row['sign']] = set()\n",
    "        job_to_skills[row['job_id']][row['sign']].add(row['id'])\n",
    "    \n",
    "    print(job_to_skills)"
   ]
  },
  {
   "cell_type": "code",
   "execution_count": 48,
   "metadata": {},
   "outputs": [],
   "source": [
    "def generate_character():\n",
    "    global battle_id\n",
    "    global job_to_skills\n",
    "    character = {}\n",
    "    character[BATTLEID_TITLE] = battle_id\n",
    "    battle_id += 1\n",
    "    character[CHARACTER_TITLE] = []\n",
    "    job_ids = np.random.choice(list(job_to_skills.keys()), 4, replace=False)\n",
    "    for job_id in job_ids:\n",
    "        job = {}\n",
    "        job[JOBID_TITLE] = job_id\n",
    "        job[SKILL_TITLE] = []\n",
    "        signs = np.random.choice(list(job_to_skills[job_id].keys()), 4, replace=False)\n",
    "        for sign in signs:\n",
    "               job[SKILL_TITLE].append(np.random.choice(list(job_to_skills[job_id][sign]), 1, replace=False)[0])\n",
    "        character[CHARACTER_TITLE].append(job)\n",
    "    return character"
   ]
  },
  {
   "cell_type": "code",
   "execution_count": 49,
   "metadata": {},
   "outputs": [
    {
     "name": "stdout",
     "output_type": "stream",
     "text": [
      "{14: {'DS_HuGaGa': {1345, 1665, 1666, 1667, 1668, 1669, 1385, 1325, 109, 1365}, 'DS_ManHuangXueMai': {1346, 1386, 1326, 110, 1366}, 'DS_XiSheng': {1347, 1559, 1387, 1327, 111, 1367, 1560, 1561, 1562, 1563}, 'DS_WuWeiZhan': {1348, 1388, 112, 1328, 1368}, 'DS_XuanFengZhan': {1349, 1389, 113, 1329, 1369}, 'DS_ShunPiZhan': {1350, 1390, 1330, 185, 1370}, 'DS_JueJiang': {1351, 1391, 1331, 245, 1371}, 'DS_HuHuHu': {1953, 1954, 1955, 1956, 1957, 1352, 1392, 1332, 246, 1372}, 'DS_KuangReDaJi': {1952, 1353, 1949, 1393, 1333, 247, 1948, 1373, 1950, 1951}, 'DS_ManHuangDaJi': {1354, 1394, 1334, 248, 1374}, 'DS_XueMaiZhiLi': {1355, 1395, 1335, 249, 1375}, 'DS_HuiKan': {1376, 1356, 1396, 1336, 382}, 'DS_FenLiYiJi': {1377, 1357, 1397, 1337, 383}, 'DS_ChongNengZhan': {384, 1378, 1358, 1398, 1338}, 'DS_LingKongZhan': {1379, 1359, 1399, 440, 1339}, 'DS_JueJingQiuSheng': {1380, 1670, 1671, 1672, 1673, 1674, 1360, 1400, 441, 1340}, 'DS_ShangGouQuan': {1664, 1381, 1661, 1361, 1401, 442, 1660, 1341, 1662, 1663}, 'DS_LanJie': {1382, 1362, 1402, 443, 1342}, 'DS_KuangZhanNuHou': {1383, 1363, 1403, 444, 1343}, 'DS_NuHuoZhongShao': {1344, 1384, 1364, 1404, 445}}, 15: {'ZS_HuGaGa': {1285, 103, 1265, 1620, 1621, 1622, 1623, 1624, 1305, 1245}, 'ZS_ShouHuZiTai': {1286, 104, 1266, 1306, 1246}, 'ZS_WoMenShang': {1287, 105, 1267, 1307, 1247}, 'ZS_YuanHu': {1248, 1568, 1565, 1288, 106, 1268, 1308, 1564, 1566, 1567}, 'ZS_ShouHuZhiDun': {1249, 1289, 107, 1269, 1309}, 'ZS_ZhenDangZhongChui': {1250, 1290, 108, 1270, 1310}, 'ZS_HengSao': {1251, 1291, 240, 1271, 1311}, 'ZS_HuHa': {1312, 1252, 1292, 241, 1944, 1943, 1272, 1945, 1946, 1947}, 'ZS_JianRenYiZhi': {1313, 1253, 1293, 242, 1273}, 'ZS_FanJiZiTai': {1314, 1254, 1294, 243, 1274}, 'ZS_JingJiHuDun': {1315, 1255, 1295, 244, 1275}, 'ZS_YingYongYiJi': {1316, 1256, 1296, 1938, 1939, 1940, 1941, 1942, 379, 1276}, 'ZS_RuoDianDaJi': {1317, 1257, 1297, 380, 1277}, 'ZS_XuLiZhan': {1318, 1258, 1298, 381, 1278}, 'ZS_ZhongQuanJiFei': {1319, 1259, 1615, 1616, 1617, 434, 1299, 1618, 1619, 1279}, 'ZS_ShiZiHou': {1280, 1320, 1260, 435, 1300}, 'ZS_DuoLianZhan': {1281, 1321, 1261, 436, 1301}, 'ZS_HuiShenZhan': {1282, 1322, 1262, 437, 1302, 1625, 1626, 1627, 1628, 1629}, 'ZS_ZhuiJi': {1283, 1323, 1263, 438, 1303}, 'ZS_JuRenZaiShi': {1284, 1324, 1264, 439, 1304}}, 16: {'DZ_TuXi': {1185, 1225, 1165, 116, 1205}, 'DZ_GeLie': {1186, 1226, 1166, 117, 1206}, 'DZ_LianHuanTuCi': {1187, 1227, 1167, 118, 1207}, 'DZ_HuiShenJi': {1569, 1570, 1571, 1188, 1572, 1573, 1228, 1168, 119, 1208}, 'DZ_DuoMingTuCi': {1189, 1229, 1169, 120, 1209}, 'DZ_YiZhiZhiRen': {1635, 1636, 1637, 1190, 1638, 1639, 1230, 1170, 121, 1210}, 'DZ_ZhuiJi': {1191, 1640, 1641, 1642, 1643, 1644, 1231, 1171, 250, 1211}, 'DZ_KuangRe': {1192, 1232, 1172, 251, 1212}, 'DZ_JiaoTi': {1193, 1233, 1173, 252, 1213}, 'DZ_MengGun': {1194, 1234, 1174, 253, 1214}, 'DZ_LuanWu': {1195, 1235, 1175, 254, 1215}, 'DZ_TouZhiFeiDao': {1216, 388, 1196, 1236, 1176}, 'DZ_YinDuFeiDao': {1217, 389, 1197, 1237, 1177}, 'DZ_YuGuFeiDao': {1218, 390, 1198, 1238, 1178}, 'DZ_ShangHaiZhuanYi': {1219, 1958, 391, 1959, 1960, 1961, 1962, 1199, 1239, 1179}, 'DZ_YangGong': {1220, 1200, 1240, 1180, 446}, 'DZ_TuDu': {1632, 1633, 1634, 1221, 1631, 1201, 1241, 1181, 1630, 447}, 'DZ_ZhiMingDuSu': {448, 1222, 1202, 1242, 1182}, 'DZ_CaoCongDouPeng': {449, 1223, 1203, 1243, 1183}, 'DZ_BeiCi': {1184, 450, 1224, 1204, 1244}, 'DZ_ZhiMingFeiDao': {1419, 1420, 1421, 1422, 1423, 1963, 1964, 1965, 1966, 1967}}, 17: {'LR_MiaoZhunSheJi': {1125, 1105, 1145, 122, 1085}, 'LR_KuaiSuSheJi': {1126, 1968, 1969, 1106, 1970, 1971, 1972, 1146, 123, 1086}, 'LR_JiFengYiJian': {1127, 1675, 1676, 1677, 1678, 1679, 1107, 1147, 124, 1087}, 'LR_GuanTongYiJian': {1088, 1128, 1108, 1148, 125}, 'LR_LingXiYiJian': {1089, 1129, 1680, 1681, 1682, 1683, 1684, 1109, 1149, 126}, 'LR_ChongNengJian': {1090, 1130, 1110, 1150, 127}, 'LR_ZhaoHuanXin': {1091, 255, 1131, 1111, 1151}, 'LR_ZhaoHuanPan': {256, 1152, 1092, 1132, 1112}, 'LR_LieYingChuJi': {257, 1153, 1093, 1133, 1113}, 'LR_PoDunSheJi': {258, 1154, 1094, 1134, 1973, 1974, 1975, 1976, 1977, 1114}, 'LR_RuoDianSheJi': {259, 1155, 1095, 1135, 1685, 1686, 1687, 1688, 1689, 1115}, 'LR_ZhaoHuanJia': {385, 1156, 1574, 1575, 1096, 1576, 1577, 1578, 1136, 1116}, 'LR_JianYu': {386, 1157, 1097, 1137, 1117}, 'LR_FengKuangSanShe': {387, 1158, 1098, 1138, 1118}, 'LR_FenSanSheJi': {1159, 552, 1099, 1139, 1119}, 'LR_BaoZhaJian': {1120, 1160, 553, 1100, 1140}, 'LR_LieYingYuanHu': {1121, 1161, 554, 1101, 1141}, 'LR_MaBiZhiJian': {1122, 1162, 555, 1102, 1142}, 'LR_YeZhuChongZhuang': {1123, 1163, 556, 1103, 1143}, 'LR_QuSanZhiJian': {1124, 1164, 557, 1104, 1144}, 'LR_BaoZhaXianJing': {1409, 1410, 1411, 1412, 1413}}, 18: {'DLY_BianShenLiLi': {1025, 1065, 1705, 395, 1706, 1005, 1707, 1708, 1709, 1045}, 'DLY_ZhiYu': {1026, 1066, 396, 1006, 2007, 2003, 2004, 2005, 1046, 2006}, 'DLY_ShengMingZhiGe': {1027, 1067, 397, 1007, 1047}, 'DLY_XinShengZhiYa': {1028, 1068, 398, 1008, 1048}, 'DLY_ShuZhiJieJie': {1029, 1069, 399, 1009, 1049}, 'DLY_YueGuangZhuFu': {1030, 1070, 400, 1010, 1050}, 'DLY_ZiYangZhongZi': {1031, 1710, 1071, 1711, 401, 1712, 1011, 1713, 1714, 1051}, 'DLY_GongShengZhuFu': {1032, 1072, 402, 1012, 1052}, 'DLY_YanXuZhiLi': {1033, 1073, 403, 1013, 1053}, 'DLY_ShouHuZhiGe': {1719, 1034, 1074, 1715, 404, 1716, 1014, 1717, 1718, 1054}, 'DLY_ShengMingZhongZi': {1035, 1075, 405, 1015, 1055}, 'DLY_ChuanBo': {1056, 1036, 1076, 568, 1016}, 'DLY_BuWenDingShengMingZhongZi': {1057, 1037, 1077, 569, 1017}, 'DLY_WanWuNinJing': {1018, 1058, 1038, 1998, 1999, 2000, 2001, 2002, 1078, 570}, 'DLY_WanWuZhiXi': {1059, 1019, 1039, 1079, 571}, 'DLY_ShengMingZhanFang': {608, 1060, 1040, 1080, 1020}, 'DLY_FeiYu': {609, 1061, 1593, 1041, 1589, 1590, 1591, 1592, 1081, 1021}, 'DLY_XianHuaZhongZi': {610, 1062, 1042, 1082, 1022}, 'DLY_BianShenWuKeKe': {611, 1063, 1043, 1083, 1023}, 'DLY_FeiYuTuCi': {1024, 612, 1064, 1044, 1084}, 'DLY_ShuZhiQuSan': {1414, 1415, 1416, 1417, 1418}}, 19: {'FS_MoFaZhiHui': {130, 965, 1579, 1580, 1581, 1582, 1583, 945, 985, 925}, 'FS_MoFaFenShen': {131, 966, 946, 986, 926}, 'FS_HuoQiuShu': {132, 967, 1659, 947, 1655, 1656, 1657, 1658, 987, 927}, 'FS_MoFaFeiDan': {928, 133, 968, 948, 988}, 'FS_HanBingJian': {929, 134, 969, 949, 989}, 'FS_ZhuoShao': {930, 135, 970, 950, 990}, 'FS_HuoYanChongJi': {931, 260, 971, 1645, 1646, 1647, 1648, 1649, 951, 991}, 'FS_YanBaoShu': {992, 932, 261, 972, 952}, 'FS_BaoFengXue': {993, 933, 262, 973, 953}, 'FS_BingShuangXinXing': {994, 934, 263, 974, 954}, 'FS_ShanDianHuanRao': {995, 935, 264, 975, 955}, 'FS_ShanDianChongJi': {1984, 1985, 1986, 1987, 997, 937, 559, 977, 957, 1983}, 'FS_ChenMo': {998, 938, 560, 978, 958}, 'FS_MoLiHuiLiu': {999, 939, 561, 979, 1978, 1979, 1980, 1981, 1982, 959}, 'FS_BingShuangSheXian': {961, 1001, 941, 563, 981}, 'FS_BingZhuiShu': {962, 1002, 942, 564, 982}, 'FS_MoFaChongJi': {963, 1003, 943, 565, 983}, 'FS_YeZhuBianXingShu': {964, 1004, 944, 1650, 1651, 1652, 1653, 566, 1654, 984}, 'FS_MoLiQuSan': {1424, 1425, 1426, 1427, 1428}, 'FS_MofaZhiLi': {1429, 1430, 1431, 1432, 1433}, 'FS_MoFaZhongJie': {1434, 1435, 1436, 1437, 1438}}, 25: {'SM_XianZuShouHu': {136, 841, 904, 883, 1720, 1721, 1722, 1723, 1724, 862}, 'SM_YuRun': {2016, 2017, 137, 842, 905, 884, 2015, 2013, 2014, 863}, 'SM_YuZhongWu': {864, 138, 843, 906, 885}, 'SM_ChaoXiYongDong': {865, 139, 844, 907, 886}, 'SM_BenLiuBuXi': {866, 908, 140, 845, 887}, 'SM_FanJiGuDian': {1730, 867, 1731, 1732, 1733, 1734, 141, 846, 909, 888}, 'SM_QuanShuiTuTeng': {868, 265, 910, 847, 889}, 'SM_XiYuGuDian': {1728, 1729, 869, 266, 911, 848, 890, 1725, 1726, 1727}, 'SM_ShengMingTuTeng': {870, 267, 912, 849, 891}, 'SM_YuWoGongWu': {871, 268, 913, 850, 892}, 'SM_ShanDianGuDian': {872, 269, 914, 851, 893}, 'SM_XianZuZhuFu': {392, 873, 915, 852, 894}, 'SM_XianZuEnZe': {393, 874, 916, 853, 895}, 'SM_ZhiLiaoLian': {896, 394, 875, 917, 854, 2008, 2009, 2010, 2011, 2012}, 'SM_ShanDianTuTeng': {897, 582, 876, 918, 855}, 'SM_DianLiuChuanSuo': {898, 583, 877, 919, 856}, 'SM_LeiDianZhiXin': {899, 584, 878, 920, 857, 1594, 1595, 1596, 1597, 1598}, 'SM_JiDang': {900, 585, 879, 921, 858}, 'SM_QuSanGuDian': {901, 586, 880, 922, 859}, 'SM_LangHunTuTeng': {902, 589, 881, 923, 860}, 'SM_MeiHuoZhiWu': {903, 840, 882, 924, 861}}, 26: {'SS_ZhaoHuanBaoLiWa': {774, 752, 818, 406, 796}, 'SS_RanShaoYinJi': {1696, 1697, 1698, 1699, 775, 753, 819, 407, 797, 1695}, 'SS_LingHunYinJi': {776, 1694, 754, 820, 408, 1690, 1691, 1692, 1693, 798}, 'SS_LingHunShuangSheng': {777, 755, 821, 409, 799}, 'SS_LingHunBoDong': {800, 778, 756, 822, 410}, 'SS_QingWaXieTongShu': {802, 780, 758, 824, 412}, 'SS_LianSuoYinRan': {803, 1700, 1701, 1702, 1703, 1704, 781, 759, 825, 413}, 'SS_TuoShui': {804, 782, 760, 826, 414}, 'SS_GuaGuaGua': {805, 783, 761, 827, 415}, 'SS_RanShaoChongJi': {416, 806, 784, 762, 828}, 'SS_LiaoYuan': {417, 807, 785, 763, 829}, 'SS_LingHunXinSheng': {764, 808, 786, 572, 830}, 'SS_ZhaoHuanZhangLaoWa': {573, 809, 787, 765, 831}, 'SS_DuoChongYinRan': {832, 810, 766, 1584, 1585, 1586, 1587, 788, 1588, 574}, 'SS_KuangRe': {833, 811, 575, 789, 767}, 'SS_DaYanWaBianXingShu': {576, 768, 834, 812, 790}, 'SS_TongKuYinRan': {577, 769, 835, 813, 791}, 'SS_JiQu': {578, 770, 836, 814, 792}, 'SS_ShengMingFenLiu': {771, 1988, 837, 1989, 1990, 1991, 1992, 749, 815, 793}, 'SS_ZhaoHuanYaoShiWa': {772, 838, 750, 816, 794}, 'SS_LingHunBianChi': {773, 839, 1993, 1994, 1995, 1996, 1997, 751, 817, 795}}}\n"
     ]
    }
   ],
   "source": [
    "read_data('job-skill-separated.xlsx')"
   ]
  },
  {
   "cell_type": "code",
   "execution_count": 50,
   "metadata": {},
   "outputs": [
    {
     "data": {
      "text/plain": [
       "{'BattleId': 6,\n",
       " 'Characters': [{'JobId': 18, 'Skills': [1061, 1057, 1063, 1042]},\n",
       "  {'JobId': 15, 'Skills': [1264, 1317, 1250, 1275]},\n",
       "  {'JobId': 17, 'Skills': [556, 1972, 1145, 1136]},\n",
       "  {'JobId': 14, 'Skills': [1395, 1332, 110, 1329]}]}"
      ]
     },
     "execution_count": 50,
     "metadata": {},
     "output_type": "execute_result"
    }
   ],
   "source": [
    "generate_character()"
   ]
  },
  {
   "cell_type": "code",
   "execution_count": null,
   "metadata": {},
   "outputs": [],
   "source": []
  }
 ],
 "metadata": {
  "kernelspec": {
   "display_name": "Python 3",
   "language": "python",
   "name": "python3"
  },
  "language_info": {
   "codemirror_mode": {
    "name": "ipython",
    "version": 3
   },
   "file_extension": ".py",
   "mimetype": "text/x-python",
   "name": "python",
   "nbconvert_exporter": "python",
   "pygments_lexer": "ipython3",
   "version": "3.11.4"
  },
  "orig_nbformat": 4
 },
 "nbformat": 4,
 "nbformat_minor": 2
}
