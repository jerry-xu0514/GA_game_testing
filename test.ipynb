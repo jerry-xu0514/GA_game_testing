{
 "cells": [
  {
   "cell_type": "code",
   "execution_count": 1,
   "metadata": {},
   "outputs": [
    {
     "name": "stdout",
     "output_type": "stream",
     "text": [
      "(1, 2, 3)\n",
      "(1, 3, 2)\n",
      "(2, 1, 3)\n",
      "(2, 3, 1)\n",
      "(3, 1, 2)\n",
      "(3, 2, 1)\n"
     ]
    }
   ],
   "source": [
    "from itertools import permutations\n",
    "for i in permutations(range(1,4)):\n",
    "    print(i)"
   ]
  },
  {
   "cell_type": "code",
   "execution_count": 1,
   "metadata": {},
   "outputs": [
    {
     "name": "stdout",
     "output_type": "stream",
     "text": [
      "Collecting pygad\n",
      "  Using cached pygad-3.1.0-py3-none-any.whl (73 kB)\n",
      "Collecting numpy\n",
      "  Downloading numpy-1.21.6-cp37-cp37m-win_amd64.whl (14.0 MB)\n",
      "     ---------------------------------------- 14.0/14.0 MB 5.1 MB/s eta 0:00:00\n",
      "Collecting matplotlib\n",
      "  Downloading matplotlib-3.5.3-cp37-cp37m-win_amd64.whl (7.2 MB)\n",
      "     ---------------------------------------- 7.2/7.2 MB 6.5 MB/s eta 0:00:00\n",
      "Collecting cloudpickle\n",
      "  Using cached cloudpickle-2.2.1-py3-none-any.whl (25 kB)\n",
      "Collecting kiwisolver>=1.0.1\n",
      "  Downloading kiwisolver-1.4.4-cp37-cp37m-win_amd64.whl (54 kB)\n",
      "     ---------------------------------------- 54.9/54.9 kB ? eta 0:00:00\n",
      "Collecting fonttools>=4.22.0\n",
      "  Downloading fonttools-4.38.0-py3-none-any.whl (965 kB)\n",
      "     -------------------------------------- 965.4/965.4 kB 7.6 MB/s eta 0:00:00\n",
      "Collecting cycler>=0.10\n",
      "  Using cached cycler-0.11.0-py3-none-any.whl (6.4 kB)\n",
      "Requirement already satisfied: packaging>=20.0 in c:\\users\\jerryxu\\desktop\\work\\ga_game_balancing\\.conda\\lib\\site-packages (from matplotlib->pygad) (23.1)\n",
      "Collecting pillow>=6.2.0\n",
      "  Downloading Pillow-9.5.0-cp37-cp37m-win_amd64.whl (2.5 MB)\n",
      "     ---------------------------------------- 2.5/2.5 MB 7.7 MB/s eta 0:00:00\n",
      "Collecting pyparsing>=2.2.1\n",
      "  Downloading pyparsing-3.1.1-py3-none-any.whl (103 kB)\n",
      "     -------------------------------------- 103.1/103.1 kB 6.2 MB/s eta 0:00:00\n",
      "Requirement already satisfied: python-dateutil>=2.7 in c:\\users\\jerryxu\\desktop\\work\\ga_game_balancing\\.conda\\lib\\site-packages (from matplotlib->pygad) (2.8.2)\n",
      "Collecting typing-extensions\n",
      "  Using cached typing_extensions-4.7.1-py3-none-any.whl (33 kB)\n",
      "Requirement already satisfied: six>=1.5 in c:\\users\\jerryxu\\desktop\\work\\ga_game_balancing\\.conda\\lib\\site-packages (from python-dateutil>=2.7->matplotlib->pygad) (1.16.0)\n",
      "Installing collected packages: typing-extensions, pyparsing, pillow, numpy, fonttools, cycler, cloudpickle, kiwisolver, matplotlib, pygad\n",
      "Successfully installed cloudpickle-2.2.1 cycler-0.11.0 fonttools-4.38.0 kiwisolver-1.4.4 matplotlib-3.5.3 numpy-1.21.6 pillow-9.5.0 pygad-3.1.0 pyparsing-3.1.1 typing-extensions-4.7.1\n"
     ]
    }
   ],
   "source": [
    "!pip install pygad"
   ]
  },
  {
   "cell_type": "code",
   "execution_count": 4,
   "metadata": {},
   "outputs": [
    {
     "name": "stdout",
     "output_type": "stream",
     "text": [
      "^C\n"
     ]
    }
   ],
   "source": [
    "!conda install numpy==1.16.4"
   ]
  },
  {
   "cell_type": "code",
   "execution_count": null,
   "metadata": {},
   "outputs": [],
   "source": [
    "!conda install pandas"
   ]
  },
  {
   "cell_type": "code",
   "execution_count": 1,
   "metadata": {},
   "outputs": [],
   "source": [
    "import pandas as pd\n",
    "import random\n",
    "import numpy as np\n"
   ]
  },
  {
   "cell_type": "code",
   "execution_count": 2,
   "metadata": {},
   "outputs": [],
   "source": [
    "xls = pd.ExcelFile('job-skill.xlsx')\n",
    "jobs = pd.read_excel(xls, 'job')\n",
    "skills = pd.read_excel(xls, 'skill')\n",
    "\n",
    "job_to_skills = {}\n",
    "\n",
    "# just take the first 7\n",
    "for i in range(8):\n",
    "    job_id = jobs.loc[:7, 'job_id'][i]\n",
    "    skills_id = []\n",
    "    job_to_skills[job_id] = skills_id\n",
    "\n",
    "# for skill in skills.loc:\n",
    "for index, row in skills.iterrows():\n",
    "    skill_id = row['id']\n",
    "    job_id = row['job_id']\n",
    "    assert job_id in job_to_skills, f\"job_id {job_id} not in job_to_skills\"\n",
    "    job_to_skills[job_id].append(skill_id)\n"
   ]
  },
  {
   "cell_type": "code",
   "execution_count": 62,
   "metadata": {},
   "outputs": [],
   "source": [
    "def fitness_func(result, milliseconds, damage, maxDamage, maxTime):\n",
    "    if result:\n",
    "        fitness = 1 + 1 / (milliseconds / maxTime)\n",
    "    else:\n",
    "        fitness = damage / maxDamage\n",
    "    return fitness"
   ]
  },
  {
   "cell_type": "code",
   "execution_count": null,
   "metadata": {},
   "outputs": [],
   "source": [
    "def build_population(size):\n",
    "    population = []\n",
    "    for i in range(size):\n",
    "        battle_id = i\n",
    "        battle = {\"BattleId\": battle_id, \"Characters\": []}\n",
    "        job_list = [list(job_to_skills.keys())[i] for i in np.random.choice(8, 4)]\n",
    "\n",
    "        for job in job_list:\n",
    "            temp_jobs = {\"JobId\" : job, \"Skills\": []}\n",
    "            temp_skills = []\n",
    "            temp_rando = np.random.choice(len(job_to_skills[job]), 4)\n",
    "            for i in temp_rando:\n",
    "                temp_skills.append(job_to_skills[job][i])\n",
    "            temp_jobs[\"Skills\"] = temp_skills\n",
    "            battle[\"Characters\"].append(temp_jobs)\n",
    "        population.append(battle)\n",
    "    return population\n"
   ]
  },
  {
   "cell_type": "code",
   "execution_count": 1,
   "metadata": {},
   "outputs": [
    {
     "ename": "NameError",
     "evalue": "name 'build_population' is not defined",
     "output_type": "error",
     "traceback": [
      "\u001b[1;31m---------------------------------------------------------------------------\u001b[0m",
      "\u001b[1;31mNameError\u001b[0m                                 Traceback (most recent call last)",
      "Cell \u001b[1;32mIn[1], line 1\u001b[0m\n\u001b[1;32m----> 1\u001b[0m population \u001b[39m=\u001b[39m build_population(\u001b[39m100\u001b[39m)\n",
      "\u001b[1;31mNameError\u001b[0m: name 'build_population' is not defined"
     ]
    }
   ],
   "source": [
    "population = build_population(100)"
   ]
  },
  {
   "cell_type": "code",
   "execution_count": 59,
   "metadata": {},
   "outputs": [
    {
     "name": "stdout",
     "output_type": "stream",
     "text": [
      "hi\n"
     ]
    }
   ],
   "source": [
    "fitness_function = fitness_func\n",
    "\n",
    "num_generations = 100\n",
    "num_parents_mating = 70\n",
    "\n",
    "sol_per_pop = 100\n"
   ]
  },
  {
   "cell_type": "code",
   "execution_count": 5,
   "metadata": {},
   "outputs": [
    {
     "data": {
      "text/plain": [
       "[1, 2, 3, 3, 4, 5]"
      ]
     },
     "execution_count": 5,
     "metadata": {},
     "output_type": "execute_result"
    }
   ],
   "source": [
    "test = [1,2,3,3,4,5]\n",
    "test2 = test.copy()\n",
    "test2[0] = 0\n",
    "test"
   ]
  },
  {
   "cell_type": "code",
   "execution_count": 6,
   "metadata": {},
   "outputs": [
    {
     "name": "stdout",
     "output_type": "stream",
     "text": [
      "0\n",
      "0\n",
      "0\n",
      "0\n",
      "0\n",
      "0\n",
      "0\n",
      "0\n",
      "0\n",
      "0\n",
      "0\n",
      "0\n",
      "0\n",
      "0\n",
      "0\n",
      "0\n",
      "0\n",
      "0\n",
      "0\n",
      "0\n",
      "0\n",
      "0\n",
      "0\n",
      "0\n",
      "0\n",
      "0\n",
      "0\n",
      "0\n",
      "0\n",
      "0\n",
      "0\n",
      "0\n",
      "0\n",
      "0\n",
      "0\n",
      "0\n",
      "0\n",
      "0\n",
      "0\n",
      "0\n",
      "0\n",
      "0\n",
      "0\n",
      "0\n",
      "0\n",
      "0\n",
      "0\n",
      "0\n",
      "0\n",
      "0\n",
      "0\n",
      "0\n",
      "0\n",
      "0\n",
      "0\n",
      "0\n",
      "0\n",
      "0\n",
      "0\n",
      "0\n",
      "0\n",
      "0\n",
      "0\n",
      "0\n",
      "0\n",
      "0\n",
      "0\n",
      "0\n",
      "0\n",
      "0\n",
      "0\n",
      "0\n",
      "0\n",
      "0\n",
      "0\n",
      "0\n",
      "0\n",
      "0\n",
      "0\n",
      "0\n",
      "0\n",
      "0\n",
      "0\n",
      "0\n",
      "0\n",
      "0\n",
      "0\n",
      "0\n",
      "0\n",
      "0\n",
      "0\n",
      "0\n",
      "0\n",
      "0\n",
      "0\n",
      "0\n",
      "0\n",
      "0\n",
      "0\n",
      "0\n"
     ]
    }
   ],
   "source": [
    "for i in range(100):\n",
    "    print(np.random.randint(0,1))"
   ]
  },
  {
   "cell_type": "code",
   "execution_count": null,
   "metadata": {},
   "outputs": [],
   "source": []
  }
 ],
 "metadata": {
  "kernelspec": {
   "display_name": "Python 3",
   "language": "python",
   "name": "python3"
  },
  "language_info": {
   "codemirror_mode": {
    "name": "ipython",
    "version": 3
   },
   "file_extension": ".py",
   "mimetype": "text/x-python",
   "name": "python",
   "nbconvert_exporter": "python",
   "pygments_lexer": "ipython3",
   "version": "3.11.4"
  },
  "orig_nbformat": 4
 },
 "nbformat": 4,
 "nbformat_minor": 2
}
