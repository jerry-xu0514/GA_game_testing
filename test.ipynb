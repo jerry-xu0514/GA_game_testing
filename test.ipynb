{
 "cells": [
  {
   "cell_type": "code",
   "execution_count": null,
   "metadata": {},
   "outputs": [],
   "source": []
  },
  {
   "cell_type": "code",
   "execution_count": 3,
   "metadata": {},
   "outputs": [
    {
     "ename": "AttributeError",
     "evalue": "module 'numpy' has no attribute 'int'.\n`np.int` was a deprecated alias for the builtin `int`. To avoid this error in existing code, use `int` by itself. Doing this will not modify any behavior and is safe. When replacing `np.int`, you may wish to use e.g. `np.int64` or `np.int32` to specify the precision. If you wish to review your current use, check the release note link for additional information.\nThe aliases was originally deprecated in NumPy 1.20; for more details and guidance see the original release note at:\n    https://numpy.org/devdocs/release/1.20.0-notes.html#deprecations",
     "output_type": "error",
     "traceback": [
      "\u001b[1;31m---------------------------------------------------------------------------\u001b[0m",
      "\u001b[1;31mAttributeError\u001b[0m                            Traceback (most recent call last)",
      "Cell \u001b[1;32mIn[3], line 5\u001b[0m\n\u001b[0;32m      2\u001b[0m \u001b[39mimport\u001b[39;00m \u001b[39mrandom\u001b[39;00m\n\u001b[0;32m      3\u001b[0m \u001b[39mimport\u001b[39;00m \u001b[39mnumpy\u001b[39;00m \u001b[39mas\u001b[39;00m \u001b[39mnp\u001b[39;00m\n\u001b[1;32m----> 5\u001b[0m \u001b[39mimport\u001b[39;00m \u001b[39mpygad\u001b[39;00m\n",
      "File \u001b[1;32m~\\AppData\\Local\\Packages\\PythonSoftwareFoundation.Python.3.11_qbz5n2kfra8p0\\LocalCache\\local-packages\\Python311\\site-packages\\pygad\\__init__.py:1\u001b[0m\n\u001b[1;32m----> 1\u001b[0m \u001b[39mfrom\u001b[39;00m \u001b[39m.\u001b[39;00m\u001b[39mpygad\u001b[39;00m \u001b[39mimport\u001b[39;00m \u001b[39m*\u001b[39m \u001b[39m# Relative import.\u001b[39;00m\n\u001b[0;32m      3\u001b[0m __version__ \u001b[39m=\u001b[39m \u001b[39m\"\u001b[39m\u001b[39m2.17.0\u001b[39m\u001b[39m\"\u001b[39m\n",
      "File \u001b[1;32m~\\AppData\\Local\\Packages\\PythonSoftwareFoundation.Python.3.11_qbz5n2kfra8p0\\LocalCache\\local-packages\\Python311\\site-packages\\pygad\\pygad.py:9\u001b[0m\n\u001b[0;32m      6\u001b[0m \u001b[39mimport\u001b[39;00m \u001b[39mwarnings\u001b[39;00m\n\u001b[0;32m      7\u001b[0m \u001b[39mimport\u001b[39;00m \u001b[39mconcurrent\u001b[39;00m\u001b[39m.\u001b[39;00m\u001b[39mfutures\u001b[39;00m\n\u001b[1;32m----> 9\u001b[0m \u001b[39mclass\u001b[39;49;00m \u001b[39mGA\u001b[39;49;00m:\n\u001b[0;32m     11\u001b[0m     supported_int_types \u001b[39m=\u001b[39;49m [\u001b[39mint\u001b[39;49m, numpy\u001b[39m.\u001b[39;49mint, numpy\u001b[39m.\u001b[39;49mint8, numpy\u001b[39m.\u001b[39;49mint16, numpy\u001b[39m.\u001b[39;49mint32, numpy\u001b[39m.\u001b[39;49mint64, numpy\u001b[39m.\u001b[39;49muint, numpy\u001b[39m.\u001b[39;49muint8, numpy\u001b[39m.\u001b[39;49muint16, numpy\u001b[39m.\u001b[39;49muint32, numpy\u001b[39m.\u001b[39;49muint64]\n\u001b[0;32m     12\u001b[0m     supported_float_types \u001b[39m=\u001b[39;49m [\u001b[39mfloat\u001b[39;49m, numpy\u001b[39m.\u001b[39;49mfloat, numpy\u001b[39m.\u001b[39;49mfloat16, numpy\u001b[39m.\u001b[39;49mfloat32, numpy\u001b[39m.\u001b[39;49mfloat64]\n",
      "File \u001b[1;32m~\\AppData\\Local\\Packages\\PythonSoftwareFoundation.Python.3.11_qbz5n2kfra8p0\\LocalCache\\local-packages\\Python311\\site-packages\\pygad\\pygad.py:11\u001b[0m, in \u001b[0;36mGA\u001b[1;34m()\u001b[0m\n\u001b[0;32m      9\u001b[0m \u001b[39mclass\u001b[39;00m \u001b[39mGA\u001b[39;00m:\n\u001b[1;32m---> 11\u001b[0m     supported_int_types \u001b[39m=\u001b[39m [\u001b[39mint\u001b[39m, numpy\u001b[39m.\u001b[39;49mint, numpy\u001b[39m.\u001b[39mint8, numpy\u001b[39m.\u001b[39mint16, numpy\u001b[39m.\u001b[39mint32, numpy\u001b[39m.\u001b[39mint64, numpy\u001b[39m.\u001b[39muint, numpy\u001b[39m.\u001b[39muint8, numpy\u001b[39m.\u001b[39muint16, numpy\u001b[39m.\u001b[39muint32, numpy\u001b[39m.\u001b[39muint64]\n\u001b[0;32m     12\u001b[0m     supported_float_types \u001b[39m=\u001b[39m [\u001b[39mfloat\u001b[39m, numpy\u001b[39m.\u001b[39mfloat, numpy\u001b[39m.\u001b[39mfloat16, numpy\u001b[39m.\u001b[39mfloat32, numpy\u001b[39m.\u001b[39mfloat64]\n\u001b[0;32m     13\u001b[0m     supported_int_float_types \u001b[39m=\u001b[39m supported_int_types \u001b[39m+\u001b[39m supported_float_types\n",
      "File \u001b[1;32m~\\AppData\\Local\\Packages\\PythonSoftwareFoundation.Python.3.11_qbz5n2kfra8p0\\LocalCache\\local-packages\\Python311\\site-packages\\numpy\\__init__.py:305\u001b[0m, in \u001b[0;36m__getattr__\u001b[1;34m(attr)\u001b[0m\n\u001b[0;32m    300\u001b[0m     warnings\u001b[39m.\u001b[39mwarn(\n\u001b[0;32m    301\u001b[0m         \u001b[39mf\u001b[39m\u001b[39m\"\u001b[39m\u001b[39mIn the future `np.\u001b[39m\u001b[39m{\u001b[39;00mattr\u001b[39m}\u001b[39;00m\u001b[39m` will be defined as the \u001b[39m\u001b[39m\"\u001b[39m\n\u001b[0;32m    302\u001b[0m         \u001b[39m\"\u001b[39m\u001b[39mcorresponding NumPy scalar.\u001b[39m\u001b[39m\"\u001b[39m, \u001b[39mFutureWarning\u001b[39;00m, stacklevel\u001b[39m=\u001b[39m\u001b[39m2\u001b[39m)\n\u001b[0;32m    304\u001b[0m \u001b[39mif\u001b[39;00m attr \u001b[39min\u001b[39;00m __former_attrs__:\n\u001b[1;32m--> 305\u001b[0m     \u001b[39mraise\u001b[39;00m \u001b[39mAttributeError\u001b[39;00m(__former_attrs__[attr])\n\u001b[0;32m    307\u001b[0m \u001b[39m# Importing Tester requires importing all of UnitTest which is not a\u001b[39;00m\n\u001b[0;32m    308\u001b[0m \u001b[39m# cheap import Since it is mainly used in test suits, we lazy import it\u001b[39;00m\n\u001b[0;32m    309\u001b[0m \u001b[39m# here to save on the order of 10 ms of import time for most users\u001b[39;00m\n\u001b[0;32m    310\u001b[0m \u001b[39m#\u001b[39;00m\n\u001b[0;32m    311\u001b[0m \u001b[39m# The previous way Tester was imported also had a side effect of adding\u001b[39;00m\n\u001b[0;32m    312\u001b[0m \u001b[39m# the full `numpy.testing` namespace\u001b[39;00m\n\u001b[0;32m    313\u001b[0m \u001b[39mif\u001b[39;00m attr \u001b[39m==\u001b[39m \u001b[39m'\u001b[39m\u001b[39mtesting\u001b[39m\u001b[39m'\u001b[39m:\n",
      "\u001b[1;31mAttributeError\u001b[0m: module 'numpy' has no attribute 'int'.\n`np.int` was a deprecated alias for the builtin `int`. To avoid this error in existing code, use `int` by itself. Doing this will not modify any behavior and is safe. When replacing `np.int`, you may wish to use e.g. `np.int64` or `np.int32` to specify the precision. If you wish to review your current use, check the release note link for additional information.\nThe aliases was originally deprecated in NumPy 1.20; for more details and guidance see the original release note at:\n    https://numpy.org/devdocs/release/1.20.0-notes.html#deprecations"
     ]
    }
   ],
   "source": [
    "import pandas as pd\n",
    "import random\n",
    "import numpy as np\n",
    "\n",
    "import pygad"
   ]
  },
  {
   "cell_type": "code",
   "execution_count": 61,
   "metadata": {},
   "outputs": [],
   "source": [
    "xls = pd.ExcelFile('job-skill.xlsx')\n",
    "jobs = pd.read_excel(xls, 'job')\n",
    "skills = pd.read_excel(xls, 'skill')\n",
    "\n",
    "job_to_skills = {}\n",
    "\n",
    "# just take the first 7\n",
    "for i in range(8):\n",
    "    job_id = jobs.loc[:7, 'job_id'][i]\n",
    "    skills_id = []\n",
    "    job_to_skills[job_id] = skills_id\n",
    "\n",
    "# for skill in skills.loc:\n",
    "for index, row in skills.iterrows():\n",
    "    skill_id = row['id']\n",
    "    job_id = row['job_id']\n",
    "    assert job_id in job_to_skills, f\"job_id {job_id} not in job_to_skills\"\n",
    "    job_to_skills[job_id].append(skill_id)\n"
   ]
  },
  {
   "cell_type": "code",
   "execution_count": 62,
   "metadata": {},
   "outputs": [],
   "source": [
    "def fitness_func(result, milliseconds, damage, maxDamage, maxTime):\n",
    "    if result:\n",
    "        fitness = 1 + 1 / (milliseconds / maxTime)\n",
    "    else:\n",
    "        fitness = damage / maxDamage\n",
    "    return fitness"
   ]
  },
  {
   "cell_type": "code",
   "execution_count": null,
   "metadata": {},
   "outputs": [],
   "source": [
    "def build_population(size):\n",
    "    population = []\n",
    "    for i in range(size):\n",
    "        battle_id = i\n",
    "        battle = {\"BattleId\": battle_id, \"Characters\": []}\n",
    "        job_list = [list(job_to_skills.keys())[i] for i in np.random.choice(8, 4)]\n",
    "\n",
    "        for job in job_list:\n",
    "            temp_jobs = {\"JobId\" : job, \"Skills\": []}\n",
    "            temp_skills = []\n",
    "            temp_rando = np.random.choice(len(job_to_skills[job]), 4)\n",
    "            for i in temp_rando:\n",
    "                temp_skills.append(job_to_skills[job][i])\n",
    "            temp_jobs[\"Skills\"] = temp_skills\n",
    "            battle[\"Characters\"].append(temp_jobs)\n",
    "        population.append(battle)\n",
    "    return population\n"
   ]
  },
  {
   "cell_type": "code",
   "execution_count": 1,
   "metadata": {},
   "outputs": [
    {
     "ename": "NameError",
     "evalue": "name 'build_population' is not defined",
     "output_type": "error",
     "traceback": [
      "\u001b[1;31m---------------------------------------------------------------------------\u001b[0m",
      "\u001b[1;31mNameError\u001b[0m                                 Traceback (most recent call last)",
      "Cell \u001b[1;32mIn[1], line 1\u001b[0m\n\u001b[1;32m----> 1\u001b[0m population \u001b[39m=\u001b[39m build_population(\u001b[39m100\u001b[39m)\n",
      "\u001b[1;31mNameError\u001b[0m: name 'build_population' is not defined"
     ]
    }
   ],
   "source": [
    "population = build_population(100)"
   ]
  },
  {
   "cell_type": "code",
   "execution_count": 59,
   "metadata": {},
   "outputs": [
    {
     "name": "stdout",
     "output_type": "stream",
     "text": [
      "hi\n"
     ]
    }
   ],
   "source": [
    "fitness_function = fitness_func\n",
    "\n",
    "num_generations = 100\n",
    "num_parents_mating = 70\n",
    "\n",
    "sol_per_pop = 100\n"
   ]
  },
  {
   "cell_type": "code",
   "execution_count": null,
   "metadata": {},
   "outputs": [],
   "source": []
  }
 ],
 "metadata": {
  "kernelspec": {
   "display_name": "Python 3",
   "language": "python",
   "name": "python3"
  },
  "language_info": {
   "codemirror_mode": {
    "name": "ipython",
    "version": 3
   },
   "file_extension": ".py",
   "mimetype": "text/x-python",
   "name": "python",
   "nbconvert_exporter": "python",
   "pygments_lexer": "ipython3",
   "version": "3.11.4"
  },
  "orig_nbformat": 4
 },
 "nbformat": 4,
 "nbformat_minor": 2
}
