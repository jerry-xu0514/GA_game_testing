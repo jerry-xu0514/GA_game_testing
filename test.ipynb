{
 "cells": [
  {
   "cell_type": "code",
   "execution_count": 57,
   "metadata": {},
   "outputs": [],
   "source": [
    "import pandas as pd\n",
    "import random\n",
    "\n",
    "import pygad"
   ]
  },
  {
   "cell_type": "code",
   "execution_count": 58,
   "metadata": {},
   "outputs": [],
   "source": [
    "xls = pd.ExcelFile('job-skill.xlsx')\n",
    "jobs = pd.read_excel(xls, 'job')\n",
    "skills = pd.read_excel(xls, 'skill')\n",
    "\n",
    "job_to_skills = {}\n",
    "\n",
    "# just take the first 7\n",
    "for i in range(8):\n",
    "    job_id = jobs.loc[:7, 'job_id'][i]\n",
    "    skills_id = []\n",
    "    job_to_skills[job_id] = skills_id\n",
    "\n",
    "# for skill in skills.loc:\n",
    "for index, row in skills.iterrows():\n",
    "    skill_id = row['id']\n",
    "    job_id = row['job_id']\n",
    "    assert job_id in job_to_skills, f\"job_id {job_id} not in job_to_skills\"\n",
    "    job_to_skills[job_id].append(skill_id)\n"
   ]
  },
  {
   "cell_type": "code",
   "execution_count": 49,
   "metadata": {},
   "outputs": [
    {
     "name": "stdout",
     "output_type": "stream",
     "text": [
      "id         103\n",
      "name      唬嘎嘎！\n",
      "job_id      15\n",
      "Name: 0, dtype: object\n"
     ]
    }
   ],
   "source": [
    "def fitness_func(result, milliseconds, damage, maxDamage, maxTime):\n",
    "    if result:\n",
    "        fitness = 1 + 1 / (milliseconds / maxTime)\n",
    "    else:\n",
    "        fitness = damage / maxDamage\n",
    "    return fitness"
   ]
  },
  {
   "cell_type": "code",
   "execution_count": null,
   "metadata": {},
   "outputs": [],
   "source": [
    "def build_population(job_to_skills):\n",
    "    "
   ]
  },
  {
   "cell_type": "code",
   "execution_count": 59,
   "metadata": {},
   "outputs": [
    {
     "name": "stdout",
     "output_type": "stream",
     "text": [
      "hi\n"
     ]
    }
   ],
   "source": [
    "fitness_function = fitness_func\n",
    "\n",
    "num_generations = 100\n",
    "num_parents_mating = 70\n",
    "\n",
    "sol_per_pop = 100\n"
   ]
  },
  {
   "cell_type": "code",
   "execution_count": null,
   "metadata": {},
   "outputs": [],
   "source": []
  }
 ],
 "metadata": {
  "kernelspec": {
   "display_name": "Python 3",
   "language": "python",
   "name": "python3"
  },
  "language_info": {
   "codemirror_mode": {
    "name": "ipython",
    "version": 3
   },
   "file_extension": ".py",
   "mimetype": "text/x-python",
   "name": "python",
   "nbconvert_exporter": "python",
   "pygments_lexer": "ipython3",
   "version": "3.11.4"
  },
  "orig_nbformat": 4
 },
 "nbformat": 4,
 "nbformat_minor": 2
}
