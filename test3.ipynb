{
 "cells": [
  {
   "cell_type": "code",
   "execution_count": 1,
   "metadata": {},
   "outputs": [],
   "source": [
    "import GA_character_testing\n",
    "import numpy as np\n",
    "import copy"
   ]
  },
  {
   "cell_type": "code",
   "execution_count": 2,
   "metadata": {},
   "outputs": [
    {
     "name": "stdout",
     "output_type": "stream",
     "text": [
      "reading data from job-skill.xlsx...\n"
     ]
    }
   ],
   "source": [
    "GA_character_testing.read_data(\"job-skill.xlsx\")"
   ]
  },
  {
   "cell_type": "code",
   "execution_count": 3,
   "metadata": {},
   "outputs": [
    {
     "name": "stdout",
     "output_type": "stream",
     "text": [
      "generating first population...\n"
     ]
    }
   ],
   "source": [
    "population, id_idx = GA_character_testing.generate_first_population(4)"
   ]
  },
  {
   "cell_type": "code",
   "execution_count": 4,
   "metadata": {},
   "outputs": [
    {
     "data": {
      "text/plain": [
       "array([0, 0])"
      ]
     },
     "execution_count": 4,
     "metadata": {},
     "output_type": "execute_result"
    }
   ],
   "source": [
    "switch = np.random.choice(4,2)\n",
    "switch"
   ]
  },
  {
   "cell_type": "code",
   "execution_count": 5,
   "metadata": {},
   "outputs": [
    {
     "name": "stdout",
     "output_type": "stream",
     "text": [
      "[{'BattleId': 0, 'Characters': [{'JobId': 18, 'Skills': [1707, 1705, 1012, 396]}, {'JobId': 17, 'Skills': [556, 258, 1676, 1577]}, {'JobId': 26, 'Skills': [1702, 1700, 767, 791]}, {'JobId': 25, 'Skills': [1597, 879, 923, 1731]}]}, {'BattleId': 1, 'Characters': [{'JobId': 25, 'Skills': [892, 917, 266, 861]}, {'JobId': 19, 'Skills': [993, 935, 929, 1983]}, {'JobId': 15, 'Skills': [438, 244, 1279, 1258]}, {'JobId': 17, 'Skills': [258, 1164, 1143, 1680]}]}, {'BattleId': 2, 'Characters': [{'JobId': 16, 'Skills': [390, 1228, 1238, 391]}, {'JobId': 14, 'Skills': [1400, 1337, 1347, 1560]}, {'JobId': 19, 'Skills': [1984, 1438, 990, 954]}, {'JobId': 26, 'Skills': [1588, 815, 1691, 789]}]}, {'BattleId': 3, 'Characters': [{'JobId': 15, 'Skills': [1277, 1289, 1251, 108]}, {'JobId': 26, 'Skills': [787, 1992, 790, 1690]}, {'JobId': 17, 'Skills': [123, 1149, 1681, 387]}, {'JobId': 18, 'Skills': [1045, 398, 1081, 1014]}]}]\n"
     ]
    }
   ],
   "source": [
    "print(population)"
   ]
  },
  {
   "cell_type": "code",
   "execution_count": 6,
   "metadata": {},
   "outputs": [
    {
     "ename": "TypeError",
     "evalue": "list indices must be integers or slices, not str",
     "output_type": "error",
     "traceback": [
      "\u001b[1;31m---------------------------------------------------------------------------\u001b[0m",
      "\u001b[1;31mTypeError\u001b[0m                                 Traceback (most recent call last)",
      "Cell \u001b[1;32mIn[6], line 1\u001b[0m\n\u001b[1;32m----> 1\u001b[0m GA_character_testing\u001b[39m.\u001b[39;49mmutate_skill_order(population[\u001b[39m0\u001b[39;49m][\u001b[39m'\u001b[39;49m\u001b[39mCharacters\u001b[39;49m\u001b[39m'\u001b[39;49m])\n",
      "File \u001b[1;32mc:\\Users\\JerryXu\\Desktop\\work\\GA_game_balancing\\GA_character_testing.py:287\u001b[0m, in \u001b[0;36mmutate_skill_order\u001b[1;34m(team)\u001b[0m\n\u001b[0;32m    284\u001b[0m \u001b[39mglobal\u001b[39;00m job_val\n\u001b[0;32m    285\u001b[0m \u001b[39mglobal\u001b[39;00m ind_job_id\n\u001b[1;32m--> 287\u001b[0m job \u001b[39m=\u001b[39m team[CHARACTER_TITLE][np\u001b[39m.\u001b[39mrandom\u001b[39m.\u001b[39mrandint(\u001b[39m0\u001b[39m,\u001b[39m4\u001b[39m)]\n\u001b[0;32m    288\u001b[0m switch \u001b[39m=\u001b[39m np\u001b[39m.\u001b[39mrandom\u001b[39m.\u001b[39mchoice(\u001b[39m4\u001b[39m,\u001b[39m2\u001b[39m)\n\u001b[0;32m    289\u001b[0m \u001b[39mprint\u001b[39m(job[SKILL_TITLE])\n",
      "\u001b[1;31mTypeError\u001b[0m: list indices must be integers or slices, not str"
     ]
    }
   ],
   "source": [
    "GA_character_testing.mutate_skill_order(population[0]['Characters'])"
   ]
  },
  {
   "cell_type": "code",
   "execution_count": 7,
   "metadata": {},
   "outputs": [
    {
     "name": "stdout",
     "output_type": "stream",
     "text": [
      "{'BattleId': 0, 'Characters': [{'JobId': 18, 'Skills': [1707, 1705, 1012, 396]}, {'JobId': 17, 'Skills': [556, 258, 1676, 1577]}, {'JobId': 26, 'Skills': [1702, 1700, 767, 791]}, {'JobId': 25, 'Skills': [1597, 879, 923, 1731]}]}\n",
      "{'BattleId': 1, 'Characters': [{'JobId': 25, 'Skills': [892, 917, 266, 861]}, {'JobId': 19, 'Skills': [993, 935, 929, 1983]}, {'JobId': 15, 'Skills': [438, 244, 1279, 1258]}, {'JobId': 17, 'Skills': [258, 1164, 1143, 1680]}]}\n",
      "{'BattleId': 2, 'Characters': [{'JobId': 16, 'Skills': [390, 1228, 1238, 391]}, {'JobId': 14, 'Skills': [1400, 1337, 1347, 1560]}, {'JobId': 19, 'Skills': [1984, 1438, 990, 954]}, {'JobId': 26, 'Skills': [1588, 815, 1691, 789]}]}\n"
     ]
    }
   ],
   "source": [
    "print(population[0])\n",
    "print(population[1])\n",
    "print(population[2])"
   ]
  },
  {
   "cell_type": "code",
   "execution_count": 8,
   "metadata": {},
   "outputs": [
    {
     "name": "stdout",
     "output_type": "stream",
     "text": [
      "18170717051012396175562581676157726170217007677912515978799231731\n",
      "18170717051012396175562581676157726170217007677912515978799231731\n",
      "18170717051012396175562581676157726170217007677912515978799231731\n",
      "this happened\n",
      "[1597, 879, 923, 1731]\n",
      "18170717051012396175562581676157726170217007677912515979238791731\n",
      "151277128912511082678719927901690171231149168138718104539810811014\n",
      "defaultdict(<class 'int'>, {'18170717051012396175562581676157726170217007677912515978799231731': 2, '18170717051012396175562581676157726170217007677912515979238791731': 1, '151277128912511082678719927901690171231149168138718104539810811014': 1})\n",
      "this generation not passed 0"
     ]
    }
   ],
   "source": [
    "population[1] = copy.deepcopy(population[0])\n",
    "population[2] = copy.deepcopy(population[0])\n",
    "GA_character_testing.mutate_dup(population)"
   ]
  },
  {
   "cell_type": "code",
   "execution_count": 9,
   "metadata": {},
   "outputs": [
    {
     "name": "stdout",
     "output_type": "stream",
     "text": [
      "{'BattleId': 0, 'Characters': [{'JobId': 18, 'Skills': [1707, 1705, 1012, 396]}, {'JobId': 17, 'Skills': [556, 258, 1676, 1577]}, {'JobId': 26, 'Skills': [1702, 1700, 767, 791]}, {'JobId': 25, 'Skills': [1597, 879, 923, 1731]}]}\n",
      "{'BattleId': 0, 'Characters': [{'JobId': 18, 'Skills': [1707, 1705, 1012, 396]}, {'JobId': 17, 'Skills': [556, 258, 1676, 1577]}, {'JobId': 26, 'Skills': [1702, 1700, 767, 791]}, {'JobId': 25, 'Skills': [1597, 879, 923, 1731]}]}\n",
      "{'BattleId': 0, 'Characters': [{'JobId': 18, 'Skills': [1707, 1705, 1012, 396]}, {'JobId': 17, 'Skills': [556, 258, 1676, 1577]}, {'JobId': 26, 'Skills': [1702, 1700, 767, 791]}, {'JobId': 25, 'Skills': [1597, 923, 879, 1731]}]}\n"
     ]
    },
    {
     "data": {
      "text/plain": [
       "False"
      ]
     },
     "execution_count": 9,
     "metadata": {},
     "output_type": "execute_result"
    }
   ],
   "source": [
    "print(population[0])\n",
    "print(population[1])\n",
    "print(population[2])\n",
    "population[0] == population[2] and population[2] == population[1]"
   ]
  },
  {
   "cell_type": "code",
   "execution_count": null,
   "metadata": {},
   "outputs": [],
   "source": []
  }
 ],
 "metadata": {
  "kernelspec": {
   "display_name": "Python 3",
   "language": "python",
   "name": "python3"
  },
  "language_info": {
   "codemirror_mode": {
    "name": "ipython",
    "version": 3
   },
   "file_extension": ".py",
   "mimetype": "text/x-python",
   "name": "python",
   "nbconvert_exporter": "python",
   "pygments_lexer": "ipython3",
   "version": "3.11.4"
  },
  "orig_nbformat": 4
 },
 "nbformat": 4,
 "nbformat_minor": 2
}
