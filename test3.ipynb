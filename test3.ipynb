{
 "cells": [
  {
   "cell_type": "code",
   "execution_count": 8,
   "metadata": {},
   "outputs": [],
   "source": [
    "import GA_character_testing\n",
    "import numpy as np\n",
    "import copy\n",
    "from collections import defaultdict"
   ]
  },
  {
   "cell_type": "code",
   "execution_count": 9,
   "metadata": {},
   "outputs": [
    {
     "name": "stdout",
     "output_type": "stream",
     "text": [
      "reading data from job-skill.xlsx...\n"
     ]
    }
   ],
   "source": [
    "GA_character_testing.read_data(\"job-skill.xlsx\")"
   ]
  },
  {
   "cell_type": "code",
   "execution_count": 10,
   "metadata": {},
   "outputs": [
    {
     "name": "stdout",
     "output_type": "stream",
     "text": [
      "[{'BattleId': 30370, 'Characters': [{'JobId': 18, 'Skills': [1060, 568, 1067, 1020]}, {'JobId': 15, 'Skills': [1272, 1316, 1312, 1940]}, {'JobId': 17, 'Skills': [555, 1117, 1148, 1085]}, {'JobId': 16, 'Skills': [1207, 1223, 1167, 1243]}]}, {'BattleId': 30369, 'Characters': [{'JobId': 16, 'Skills': [1207, 1223, 1167, 1243]}, {'JobId': 18, 'Skills': [1060, 568, 1067, 1020]}, {'JobId': 17, 'Skills': [555, 1117, 1148, 1085]}, {'JobId': 15, 'Skills': [1272, 1316, 1312, 1940]}]}, {'BattleId': 30235, 'Characters': [{'JobId': 18, 'Skills': [1060, 568, 1067, 1020]}, {'JobId': 15, 'Skills': [1272, 1316, 1312, 1940]}, {'JobId': 16, 'Skills': [1207, 1223, 1167, 1243]}, {'JobId': 17, 'Skills': [555, 1117, 1148, 1085]}]}, {'BattleId': 30371, 'Characters': [{'JobId': 18, 'Skills': [1060, 568, 1067, 1020]}, {'JobId': 15, 'Skills': [1272, 1316, 1312, 1940]}, {'JobId': 17, 'Skills': [555, 1117, 1148, 1085]}, {'JobId': 16, 'Skills': [1207, 1223, 1167, 1243]}]}, {'BattleId': 30610, 'Characters': [{'JobId': 15, 'Skills': [1272, 1316, 1312, 1940]}, {'JobId': 16, 'Skills': [1207, 1223, 1167, 1243]}, {'JobId': 19, 'Skills': [978, 1983, 991, 977]}, {'JobId': 25, 'Skills': [1720, 894, 859, 880]}]}, {'BattleId': 2, 'Characters': [{'JobId': 18, 'Skills': [1029, 1075, 1717, 1024]}, {'JobId': 16, 'Skills': [1639, 1965, 1632, 1196]}, {'JobId': 14, 'Skills': [1661, 1329, 1669, 1374]}, {'JobId': 15, 'Skills': [1947, 1629, 243, 103]}]}, {'BattleId': 3, 'Characters': [{'JobId': 18, 'Skills': [1008, 1015, 1715, 396]}, {'JobId': 26, 'Skills': [789, 821, 811, 412]}, {'JobId': 15, 'Skills': [107, 1317, 379, 243]}, {'JobId': 19, 'Skills': [1434, 966, 967, 941]}]}]\n"
     ]
    }
   ],
   "source": [
    "pop, _ = GA_character_testing.generate_first_population(2)\n",
    "population =[{'BattleId': 30370, 'Characters': [{'JobId': 18, 'Skills': [1060, 568, 1067, 1020]}, {'JobId': 15, 'Skills': [1272, 1316, 1312, 1940]}, {'JobId': 17, 'Skills': [555, 1117, 1148, 1085]}, {'JobId': 16, 'Skills': [1207, 1223, 1167, 1243]}]}]\n",
    "population.append(\t{'BattleId': 30369, 'Characters': [{'JobId': 16, 'Skills': [1207, 1223, 1167, 1243]}, {'JobId': 18, 'Skills': [1060, 568, 1067, 1020]}, {'JobId': 17, 'Skills': [555, 1117, 1148, 1085]}, {'JobId': 15, 'Skills': [1272, 1316, 1312, 1940]}]}\n",
    ")\n",
    "population.append(\t{'BattleId': 30235, 'Characters': [{'JobId': 18, 'Skills': [1060, 568, 1067, 1020]}, {'JobId': 15, 'Skills': [1272, 1316, 1312, 1940]}, {'JobId': 16, 'Skills': [1207, 1223, 1167, 1243]}, {'JobId': 17, 'Skills': [555, 1117, 1148, 1085]}]}\n",
    ")\n",
    "population.append(\t{'BattleId': 30371, 'Characters': [{'JobId': 18, 'Skills': [1060, 568, 1067, 1020]}, {'JobId': 15, 'Skills': [1272, 1316, 1312, 1940]}, {'JobId': 17, 'Skills': [555, 1117, 1148, 1085]}, {'JobId': 16, 'Skills': [1207, 1223, 1167, 1243]}]}\n",
    ")\n",
    "population.append(\t{'BattleId': 30610, 'Characters': [{'JobId': 15, 'Skills': [1272, 1316, 1312, 1940]}, {'JobId': 16, 'Skills': [1207, 1223, 1167, 1243]}, {'JobId': 19, 'Skills': [978, 1983, 991, 977]}, {'JobId': 25, 'Skills': [1720, 894, 859, 880]}]}\n",
    ")\n",
    "population = population + pop\n",
    "print(population)"
   ]
  },
  {
   "cell_type": "code",
   "execution_count": 11,
   "metadata": {},
   "outputs": [
    {
     "name": "stdout",
     "output_type": "stream",
     "text": [
      "{'BattleId': 30370, 'Characters': [{'JobId': 18, 'Skills': [1060, 568, 1067, 1020]}, {'JobId': 15, 'Skills': [1272, 1316, 1312, 1940]}, {'JobId': 17, 'Skills': [555, 1117, 1148, 1085]}, {'JobId': 16, 'Skills': [1207, 1223, 1167, 1243]}]}\n",
      "{'JobId': 18, 'Skills': [1060, 568, 1067, 1020]}\n",
      "{'JobId': 15, 'Skills': [1272, 1316, 1312, 1940]}\n",
      "{'JobId': 17, 'Skills': [555, 1117, 1148, 1085]}\n",
      "{'JobId': 16, 'Skills': [1207, 1223, 1167, 1243]}\n",
      "15161718\n",
      "{'BattleId': 30369, 'Characters': [{'JobId': 16, 'Skills': [1207, 1223, 1167, 1243]}, {'JobId': 18, 'Skills': [1060, 568, 1067, 1020]}, {'JobId': 17, 'Skills': [555, 1117, 1148, 1085]}, {'JobId': 15, 'Skills': [1272, 1316, 1312, 1940]}]}\n",
      "{'JobId': 16, 'Skills': [1207, 1223, 1167, 1243]}\n",
      "{'JobId': 18, 'Skills': [1060, 568, 1067, 1020]}\n",
      "{'JobId': 17, 'Skills': [555, 1117, 1148, 1085]}\n",
      "{'JobId': 15, 'Skills': [1272, 1316, 1312, 1940]}\n",
      "18181818\n",
      "{'BattleId': 30235, 'Characters': [{'JobId': 18, 'Skills': [1060, 568, 1067, 1020]}, {'JobId': 15, 'Skills': [1272, 1316, 1312, 1940]}, {'JobId': 16, 'Skills': [1207, 1223, 1167, 1243]}, {'JobId': 17, 'Skills': [555, 1117, 1148, 1085]}]}\n",
      "{'JobId': 18, 'Skills': [1060, 568, 1067, 1020]}\n",
      "{'JobId': 15, 'Skills': [1272, 1316, 1312, 1940]}\n",
      "{'JobId': 16, 'Skills': [1207, 1223, 1167, 1243]}\n",
      "{'JobId': 17, 'Skills': [555, 1117, 1148, 1085]}\n",
      "18181818\n",
      "{'BattleId': 30371, 'Characters': [{'JobId': 18, 'Skills': [1060, 568, 1067, 1020]}, {'JobId': 15, 'Skills': [1272, 1316, 1312, 1940]}, {'JobId': 17, 'Skills': [555, 1117, 1148, 1085]}, {'JobId': 16, 'Skills': [1207, 1223, 1167, 1243]}]}\n",
      "{'JobId': 18, 'Skills': [1060, 568, 1067, 1020]}\n",
      "{'JobId': 15, 'Skills': [1272, 1316, 1312, 1940]}\n",
      "{'JobId': 17, 'Skills': [555, 1117, 1148, 1085]}\n",
      "{'JobId': 16, 'Skills': [1207, 1223, 1167, 1243]}\n",
      "18181818\n",
      "{'BattleId': 30610, 'Characters': [{'JobId': 15, 'Skills': [1272, 1316, 1312, 1940]}, {'JobId': 16, 'Skills': [1207, 1223, 1167, 1243]}, {'JobId': 19, 'Skills': [978, 1983, 991, 977]}, {'JobId': 25, 'Skills': [1720, 894, 859, 880]}]}\n",
      "{'JobId': 15, 'Skills': [1272, 1316, 1312, 1940]}\n",
      "{'JobId': 16, 'Skills': [1207, 1223, 1167, 1243]}\n",
      "{'JobId': 19, 'Skills': [978, 1983, 991, 977]}\n",
      "{'JobId': 25, 'Skills': [1720, 894, 859, 880]}\n",
      "18181920\n",
      "{'BattleId': 2, 'Characters': [{'JobId': 18, 'Skills': [1029, 1075, 1717, 1024]}, {'JobId': 16, 'Skills': [1639, 1965, 1632, 1196]}, {'JobId': 14, 'Skills': [1661, 1329, 1669, 1374]}, {'JobId': 15, 'Skills': [1947, 1629, 243, 103]}]}\n",
      "{'JobId': 18, 'Skills': [1029, 1075, 1717, 1024]}\n",
      "{'JobId': 16, 'Skills': [1639, 1965, 1632, 1196]}\n",
      "{'JobId': 14, 'Skills': [1661, 1329, 1669, 1374]}\n",
      "{'JobId': 15, 'Skills': [1947, 1629, 243, 103]}\n",
      "21222324\n",
      "{'BattleId': 3, 'Characters': [{'JobId': 18, 'Skills': [1008, 1015, 1715, 396]}, {'JobId': 26, 'Skills': [789, 821, 811, 412]}, {'JobId': 15, 'Skills': [107, 1317, 379, 243]}, {'JobId': 19, 'Skills': [1434, 966, 967, 941]}]}\n",
      "{'JobId': 18, 'Skills': [1008, 1015, 1715, 396]}\n",
      "{'JobId': 26, 'Skills': [789, 821, 811, 412]}\n",
      "{'JobId': 15, 'Skills': [107, 1317, 379, 243]}\n",
      "{'JobId': 19, 'Skills': [1434, 966, 967, 941]}\n",
      "25262728\n"
     ]
    }
   ],
   "source": [
    "ind_job_id = defaultdict(int)\n",
    "for i in population:\n",
    "    print(GA_character_testing.generate_team_hashkey(i['Characters'], ind_job_id))"
   ]
  },
  {
   "cell_type": "code",
   "execution_count": 12,
   "metadata": {},
   "outputs": [
    {
     "name": "stdout",
     "output_type": "stream",
     "text": [
      "[{'BattleId': 30370, 'Characters': [{'JobId': 18, 'Skills': [1060, 568, 1067, 1020]}, {'JobId': 15, 'Skills': [1272, 1316, 1312, 1940]}, {'JobId': 17, 'Skills': [555, 1117, 1148, 1085]}, {'JobId': 16, 'Skills': [1207, 1223, 1167, 1243]}]}, {'BattleId': 30369, 'Characters': [{'JobId': 16, 'Skills': [1207, 1223, 1167, 1243]}, {'JobId': 18, 'Skills': [1060, 568, 1067, 1020]}, {'JobId': 17, 'Skills': [555, 1117, 1148, 1085]}, {'JobId': 15, 'Skills': [1272, 1316, 1312, 1940]}]}, {'BattleId': 30235, 'Characters': [{'JobId': 18, 'Skills': [1060, 568, 1067, 1020]}, {'JobId': 15, 'Skills': [1272, 1316, 1312, 1940]}, {'JobId': 16, 'Skills': [1207, 1223, 1167, 1243]}, {'JobId': 17, 'Skills': [555, 1117, 1148, 1085]}]}, {'BattleId': 30371, 'Characters': [{'JobId': 18, 'Skills': [1060, 568, 1067, 1020]}, {'JobId': 15, 'Skills': [1272, 1316, 1312, 1940]}, {'JobId': 17, 'Skills': [555, 1117, 1148, 1085]}, {'JobId': 16, 'Skills': [1207, 1223, 1167, 1243]}]}, {'BattleId': 30610, 'Characters': [{'JobId': 15, 'Skills': [1272, 1316, 1312, 1940]}, {'JobId': 16, 'Skills': [1207, 1223, 1167, 1243]}, {'JobId': 19, 'Skills': [978, 1983, 991, 977]}, {'JobId': 25, 'Skills': [1720, 894, 859, 880]}]}, {'BattleId': 2, 'Characters': [{'JobId': 18, 'Skills': [1029, 1075, 1717, 1024]}, {'JobId': 16, 'Skills': [1639, 1965, 1632, 1196]}, {'JobId': 14, 'Skills': [1661, 1329, 1669, 1374]}, {'JobId': 15, 'Skills': [1947, 1629, 243, 103]}]}, {'BattleId': 3, 'Characters': [{'JobId': 18, 'Skills': [1008, 1015, 1715, 396]}, {'JobId': 26, 'Skills': [789, 821, 811, 412]}, {'JobId': 15, 'Skills': [107, 1317, 379, 243]}, {'JobId': 19, 'Skills': [1434, 966, 967, 941]}]}]\n"
     ]
    }
   ],
   "source": [
    "print(population)"
   ]
  },
  {
   "cell_type": "code",
   "execution_count": 13,
   "metadata": {},
   "outputs": [
    {
     "name": "stdout",
     "output_type": "stream",
     "text": [
      "{'JobId': 18, 'Skills': [1060, 568, 1067, 1020]}\n",
      "{'JobId': 15, 'Skills': [1272, 1316, 1312, 1940]}\n",
      "{'JobId': 17, 'Skills': [555, 1117, 1148, 1085]}\n",
      "{'JobId': 16, 'Skills': [1207, 1223, 1167, 1243]}\n",
      "{'JobId': 16, 'Skills': [1207, 1223, 1167, 1243]}\n",
      "{'JobId': 18, 'Skills': [1060, 568, 1067, 1020]}\n",
      "{'JobId': 17, 'Skills': [555, 1117, 1148, 1085]}\n",
      "{'JobId': 15, 'Skills': [1272, 1316, 1312, 1940]}\n",
      "{'JobId': 18, 'Skills': [1060, 568, 1067, 1020]}\n",
      "{'JobId': 15, 'Skills': [1272, 1316, 1312, 1940]}\n",
      "{'JobId': 16, 'Skills': [1207, 1223, 1167, 1243]}\n",
      "{'JobId': 17, 'Skills': [555, 1117, 1148, 1085]}\n",
      "{'JobId': 18, 'Skills': [1060, 568, 1067, 1020]}\n",
      "{'JobId': 15, 'Skills': [1272, 1316, 1312, 1940]}\n",
      "{'JobId': 17, 'Skills': [555, 1117, 1148, 1085]}\n",
      "{'JobId': 16, 'Skills': [1207, 1223, 1167, 1243]}\n",
      "{'JobId': 15, 'Skills': [1272, 1316, 1312, 1940]}\n",
      "{'JobId': 16, 'Skills': [1207, 1223, 1167, 1243]}\n",
      "{'JobId': 19, 'Skills': [978, 1983, 991, 977]}\n",
      "{'JobId': 25, 'Skills': [1720, 894, 859, 880]}\n",
      "{'JobId': 18, 'Skills': [1029, 1075, 1717, 1024]}\n",
      "{'JobId': 16, 'Skills': [1639, 1965, 1632, 1196]}\n",
      "{'JobId': 14, 'Skills': [1661, 1329, 1669, 1374]}\n",
      "{'JobId': 15, 'Skills': [1947, 1629, 243, 103]}\n",
      "{'JobId': 18, 'Skills': [1008, 1015, 1715, 396]}\n",
      "{'JobId': 26, 'Skills': [789, 821, 811, 412]}\n",
      "{'JobId': 15, 'Skills': [107, 1317, 379, 243]}\n",
      "{'JobId': 19, 'Skills': [1434, 966, 967, 941]}\n",
      "{'JobId': 18, 'Skills': [1060, 568, 1067, 1020]}\n",
      "{'JobId': 15, 'Skills': [1272, 1316, 1312, 1940]}\n",
      "{'JobId': 17, 'Skills': [555, 1117, 1148, 1085]}\n",
      "{'JobId': 16, 'Skills': [1207, 1223, 1167, 1243]}\n",
      "{'JobId': 16, 'Skills': [1207, 1223, 1167, 1243]}\n",
      "{'JobId': 18, 'Skills': [1060, 568, 1067, 1020]}\n",
      "{'JobId': 17, 'Skills': [555, 1117, 1148, 1085]}\n",
      "{'JobId': 15, 'Skills': [1272, 1316, 1312, 1940]}\n",
      "{'JobId': 18, 'Skills': [1060, 568, 1067, 1020]}\n",
      "{'JobId': 15, 'Skills': [1272, 1316, 1312, 1940]}\n",
      "{'JobId': 16, 'Skills': [1207, 1223, 1167, 1243]}\n",
      "{'JobId': 17, 'Skills': [555, 1117, 1148, 1085]}\n",
      "{'JobId': 17, 'Skills': [555, 1117, 1085, 1148]}\n",
      "{'JobId': 18, 'Skills': [1060, 568, 1067, 1020]}\n",
      "{'JobId': 15, 'Skills': [1272, 1316, 1312, 1940]}\n",
      "{'JobId': 16, 'Skills': [1207, 1223, 1167, 1243]}\n",
      "{'JobId': 17, 'Skills': [555, 1117, 1085, 1148]}\n",
      "{'JobId': 18, 'Skills': [1060, 568, 1067, 1020]}\n",
      "{'JobId': 15, 'Skills': [1272, 1316, 1312, 1940]}\n",
      "{'JobId': 17, 'Skills': [555, 1117, 1148, 1085]}\n",
      "{'JobId': 16, 'Skills': [1207, 1223, 1167, 1243]}\n",
      "{'JobId': 15, 'Skills': [1272, 1316, 1312, 1940]}\n",
      "{'JobId': 16, 'Skills': [1207, 1223, 1167, 1243]}\n",
      "{'JobId': 19, 'Skills': [978, 1983, 991, 977]}\n",
      "{'JobId': 25, 'Skills': [1720, 894, 859, 880]}\n",
      "{'JobId': 18, 'Skills': [1029, 1075, 1717, 1024]}\n",
      "{'JobId': 16, 'Skills': [1639, 1965, 1632, 1196]}\n",
      "{'JobId': 14, 'Skills': [1661, 1329, 1669, 1374]}\n",
      "{'JobId': 15, 'Skills': [1947, 1629, 243, 103]}\n",
      "{'JobId': 15, 'Skills': [243, 1629, 1947, 103]}\n",
      "{'JobId': 18, 'Skills': [1029, 1075, 1717, 1024]}\n",
      "{'JobId': 16, 'Skills': [1639, 1965, 1632, 1196]}\n",
      "{'JobId': 14, 'Skills': [1661, 1329, 1669, 1374]}\n",
      "{'JobId': 15, 'Skills': [243, 1629, 1947, 103]}\n",
      "{'JobId': 18, 'Skills': [1008, 1015, 1715, 396]}\n",
      "{'JobId': 26, 'Skills': [789, 821, 811, 412]}\n",
      "{'JobId': 15, 'Skills': [107, 1317, 379, 243]}\n",
      "{'JobId': 19, 'Skills': [1434, 966, 967, 941]}\n"
     ]
    }
   ],
   "source": [
    "GA_character_testing.mutate_dup(population)"
   ]
  },
  {
   "cell_type": "code",
   "execution_count": 15,
   "metadata": {},
   "outputs": [
    {
     "name": "stdout",
     "output_type": "stream",
     "text": [
      "{'JobId': 18, 'Skills': [1060, 568, 1067, 1020]}\n",
      "{'JobId': 15, 'Skills': [1272, 1316, 1312, 1940]}\n",
      "{'JobId': 17, 'Skills': [555, 1117, 1148, 1085]}\n",
      "{'JobId': 16, 'Skills': [1207, 1223, 1167, 1243]}\n",
      "47484950\n",
      "{'JobId': 16, 'Skills': [1207, 1223, 1167, 1243]}\n",
      "{'JobId': 18, 'Skills': [1060, 568, 1067, 1020]}\n",
      "{'JobId': 17, 'Skills': [555, 1117, 1148, 1085]}\n",
      "{'JobId': 15, 'Skills': [1272, 1316, 1312, 1940]}\n",
      "50505050\n",
      "{'JobId': 18, 'Skills': [1060, 568, 1067, 1020]}\n",
      "{'JobId': 15, 'Skills': [1272, 1316, 1312, 1940]}\n",
      "{'JobId': 16, 'Skills': [1207, 1223, 1167, 1243]}\n",
      "{'JobId': 17, 'Skills': [555, 1117, 1085, 1148]}\n",
      "50505051\n",
      "{'JobId': 18, 'Skills': [1060, 568, 1067, 1020]}\n",
      "{'JobId': 15, 'Skills': [1272, 1316, 1312, 1940]}\n",
      "{'JobId': 17, 'Skills': [555, 1117, 1148, 1085]}\n",
      "{'JobId': 16, 'Skills': [1207, 1223, 1167, 1243]}\n",
      "51515151\n",
      "{'JobId': 15, 'Skills': [1272, 1316, 1312, 1940]}\n",
      "{'JobId': 16, 'Skills': [1207, 1223, 1167, 1243]}\n",
      "{'JobId': 19, 'Skills': [978, 1983, 991, 977]}\n",
      "{'JobId': 25, 'Skills': [1720, 894, 859, 880]}\n",
      "51515253\n",
      "{'JobId': 18, 'Skills': [1029, 1075, 1717, 1024]}\n",
      "{'JobId': 16, 'Skills': [1639, 1965, 1632, 1196]}\n",
      "{'JobId': 14, 'Skills': [1661, 1329, 1669, 1374]}\n",
      "{'JobId': 15, 'Skills': [243, 1629, 1947, 103]}\n",
      "54555657\n",
      "{'JobId': 18, 'Skills': [1008, 1015, 1715, 396]}\n",
      "{'JobId': 26, 'Skills': [789, 821, 811, 412]}\n",
      "{'JobId': 15, 'Skills': [107, 1317, 379, 243]}\n",
      "{'JobId': 19, 'Skills': [1434, 966, 967, 941]}\n",
      "58596061\n"
     ]
    }
   ],
   "source": [
    "ind_job_id = defaultdict(int)\n",
    "for i in population:\n",
    "    print(GA_character_testing.generate_team_hashkey(i['Characters'], ind_job_id))"
   ]
  },
  {
   "cell_type": "code",
   "execution_count": 8,
   "metadata": {},
   "outputs": [
    {
     "name": "stdout",
     "output_type": "stream",
     "text": [
      "18170717051012396175562581676157726170217007677912515978799231731\n",
      "18170717051012396175562581676157726170217007677912515978799231731\n",
      "18170717051012396175562581676157726170217007677912515978799231731\n",
      "this happened\n",
      "[1597, 879, 923, 1731]\n",
      "18170717051012396175562581676157726170217007677912515979238791731\n",
      "151277128912511082678719927901690171231149168138718104539810811014\n",
      "defaultdict(<class 'int'>, {'18170717051012396175562581676157726170217007677912515978799231731': 2, '18170717051012396175562581676157726170217007677912515979238791731': 1, '151277128912511082678719927901690171231149168138718104539810811014': 1})\n",
      "this generation not passed 0"
     ]
    }
   ],
   "source": [
    "population[1] = copy.deepcopy(population[0])\n",
    "population[2] = copy.deepcopy(population[0])\n",
    "GA_character_testing.mutate_dup(population)"
   ]
  },
  {
   "cell_type": "code",
   "execution_count": 9,
   "metadata": {},
   "outputs": [
    {
     "name": "stdout",
     "output_type": "stream",
     "text": [
      "{'BattleId': 0, 'Characters': [{'JobId': 18, 'Skills': [1707, 1705, 1012, 396]}, {'JobId': 17, 'Skills': [556, 258, 1676, 1577]}, {'JobId': 26, 'Skills': [1702, 1700, 767, 791]}, {'JobId': 25, 'Skills': [1597, 879, 923, 1731]}]}\n",
      "{'BattleId': 0, 'Characters': [{'JobId': 18, 'Skills': [1707, 1705, 1012, 396]}, {'JobId': 17, 'Skills': [556, 258, 1676, 1577]}, {'JobId': 26, 'Skills': [1702, 1700, 767, 791]}, {'JobId': 25, 'Skills': [1597, 879, 923, 1731]}]}\n",
      "{'BattleId': 0, 'Characters': [{'JobId': 18, 'Skills': [1707, 1705, 1012, 396]}, {'JobId': 17, 'Skills': [556, 258, 1676, 1577]}, {'JobId': 26, 'Skills': [1702, 1700, 767, 791]}, {'JobId': 25, 'Skills': [1597, 923, 879, 1731]}]}\n"
     ]
    },
    {
     "data": {
      "text/plain": [
       "False"
      ]
     },
     "execution_count": 9,
     "metadata": {},
     "output_type": "execute_result"
    }
   ],
   "source": [
    "print(population[0])\n",
    "print(population[1])\n",
    "print(population[2])\n",
    "population[0] == population[2] and population[2] == population[1]"
   ]
  },
  {
   "cell_type": "code",
   "execution_count": null,
   "metadata": {},
   "outputs": [],
   "source": []
  }
 ],
 "metadata": {
  "kernelspec": {
   "display_name": "Python 3",
   "language": "python",
   "name": "python3"
  },
  "language_info": {
   "codemirror_mode": {
    "name": "ipython",
    "version": 3
   },
   "file_extension": ".py",
   "mimetype": "text/x-python",
   "name": "python",
   "nbconvert_exporter": "python",
   "pygments_lexer": "ipython3",
   "version": "3.11.4"
  },
  "orig_nbformat": 4
 },
 "nbformat": 4,
 "nbformat_minor": 2
}
